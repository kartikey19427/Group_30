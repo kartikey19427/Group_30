{
  "cells": [
    {
      "cell_type": "code",
      "execution_count": 45,
      "metadata": {
        "colab": {
          "base_uri": "https://localhost:8080/"
        },
        "id": "YcFQ_U4JId62",
        "outputId": "d7c7f8cb-f452-4e84-d12d-6c6d7b133894"
      },
      "outputs": [
        {
          "name": "stdout",
          "output_type": "stream",
          "text": [
            "Drive already mounted at /content/drive; to attempt to forcibly remount, call drive.mount(\"/content/drive\", force_remount=True).\n"
          ]
        }
      ],
      "source": [
        "import numpy as np\n",
        "import pandas as pd\n",
        "from google.colab import drive\n",
        "from sklearn.model_selection import train_test_split\n",
        "from sklearn.svm import SVC\n",
        "drive.mount('/content/drive')"
      ]
    },
    {
      "cell_type": "code",
      "execution_count": 83,
      "metadata": {
        "id": "p51nZRiCIhHf"
      },
      "outputs": [],
      "source": [
        "from sklearn.preprocessing import LabelEncoder\n",
        "train = pd.read_csv(\"/content/drive/MyDrive/training_count_vectorizer.csv\")\n",
        "test = pd.read_csv(\"/content/drive/MyDrive/testing_count_vectorizer2.csv\")\n",
        "#applying shuffle and label encoder to training set.\n",
        "train = train.sample(frac=1).reset_index(drop=True)\n",
        "le = LabelEncoder()\n",
        "train['Job_Profile'] = le.fit_transform(train['Job_Profile'])\n",
        "#Getting the features and target variables\n",
        "X_train = train.iloc[:,:-1].values\n",
        "y_train = train.iloc[:,-1].values\n",
        "X_test=test.iloc[:,:-1].values\n",
        "y_test = test.iloc[:,-1].values\n"
      ]
    },
    {
      "cell_type": "code",
      "execution_count": 84,
      "metadata": {
        "id": "7HkHsgrzLoDC"
      },
      "outputs": [],
      "source": [
        "from sklearn.ensemble import RandomForestClassifier\n",
        "#Applying Random forest classifier as our baseline model\n",
        "rf = RandomForestClassifier(n_estimators=100, random_state=42)\n",
        "rf.fit(X_train, y_train)\n",
        "y_pred = rf.predict_proba(X_test)\n",
        "y_pred2 = rf.predict(X_test)"
      ]
    },
    {
      "cell_type": "code",
      "execution_count": 85,
      "metadata": {
        "id": "fx9ZGKeJL1a9"
      },
      "outputs": [],
      "source": [
        "from sklearn.metrics import accuracy_score\n",
        "import ast\n",
        "#intersection function for checking the number of relevant and retrieved documents in a query\n",
        "def intersection(lst1, lst2):\n",
        "    lst3 = [value for value in lst1 if value in lst2]\n",
        "    return lst3\n",
        "\n",
        "#Label encoder mapping function which returns a dictionary with the training set mappings\n",
        "def getmappings(le):\n",
        "  d=dict(zip(le.classes_, le.transform(le.classes_)))\n",
        "  revd=dict(zip(le.classes_, le.transform(le.classes_)))\n",
        "  return d, revd\n",
        "\n",
        "# encodes testing set.  \n",
        "def encodetest(df,le):\n",
        "  d, revd=getmappings(le)\n",
        "  print(d)\n",
        "  lst=df.at[0, 'Job Profiles']\n",
        "  for i in range(len(df['Job Profiles'])):\n",
        "    st=df.at[i, 'Job Profiles']\n",
        "    st = st.replace(\"'\",\"\")\n",
        "    st = st.replace(\"[\",\"\")\n",
        "    st = st.replace(\"]\",\"\")\n",
        "    lst = st.split(',')\n",
        "    # lst=ast.literal_eval(lst)\n",
        "    for j in range(len(lst)):\n",
        "      # print(lst[2])\n",
        "      lst[j]=int(d[lst[j]])\n",
        "    df.at[i, 'Job Profiles']=lst"
      ]
    },
    {
      "cell_type": "markdown",
      "metadata": {
        "id": "ctkhfxeznE31"
      },
      "source": [
        "Precision@K Calculation"
      ]
    },
    {
      "cell_type": "code",
      "execution_count": 86,
      "metadata": {
        "colab": {
          "base_uri": "https://localhost:8080/"
        },
        "id": "SkuwtckwbM1n",
        "outputId": "e957ac2a-9fc7-42bc-b742-948809c8c182"
      },
      "outputs": [
        {
          "name": "stdout",
          "output_type": "stream",
          "text": [
            "[0.11 0.13 0.13 0.19 0.2  0.09 0.05 0.1 ]\n",
            "[4 3 1 2 0 7 5 6]\n",
            "[4 3]\n",
            "{'Account Manager': 0, 'Business Analyst': 1, 'Machine Learning Engineer': 2, 'Marketing Analyst': 3, 'Product Manager': 4, 'Sales Analyst': 5, 'Software Developer': 6, 'UX Designer': 7}\n",
            "   0  0.1  5466  000to  1  12:00 AM  12:00 PM  1.1  12023  2  ...  zoom  \\\n",
            "0  0    2     0      0  0         0         0    0      0  0  ...     0   \n",
            "1  0    0     0      0  0         0         0    0      0  0  ...     0   \n",
            "2  0    0     0      0  0         0         0    0      0  0  ...     0   \n",
            "3  0    0     0      0  0         0         0    0      0  0  ...     0   \n",
            "4  0    0     0      0  0         0         0    0      0  0  ...     0   \n",
            "\n",
            "   zoominfo  zrx  zug  zyhvz7iigr  zyuiom_ufdu  überraschung  œ100  œmost  \\\n",
            "0         0    0    0           0            0             0     0      0   \n",
            "1         0    0    0           0            0             0     0      0   \n",
            "2         0    0    0           0            0             0     0      0   \n",
            "3         0    0    0           0            0             0     0      0   \n",
            "4         0    0    0           0            0             0     0      0   \n",
            "\n",
            "   Job Profiles  \n",
            "0     [4, 1, 7]  \n",
            "1     [4, 1, 3]  \n",
            "2     [4, 7, 1]  \n",
            "3     [4, 6, 2]  \n",
            "4     [4, 3, 2]  \n",
            "\n",
            "[5 rows x 9699 columns]\n",
            "Precision@k: 0.5900537634408602\n"
          ]
        }
      ],
      "source": [
        "#Sorting the probabilities and getting their sorted positions.\n",
        "#K can be any value between 1 and 3 including both.\n",
        "sorted_probs = (-y_pred).argsort()\n",
        "k = 3\n",
        "#getting top k classes with the highest probabilities\n",
        "top_k = [sorted_probs[i, :k] for i in range(len(sorted_probs))]   \n",
        "print(y_pred[0])\n",
        "print(sorted_probs[0])\n",
        "print(top_k[0])\n",
        "#getting the training set label encoder mappings to use for testing set.\n",
        "d, revd=getmappings(le)\n",
        "encodetest(test,le)\n",
        "print(test.head())\n",
        "#Applying the formula for Precision@k\n",
        "correct = [len(intersection(y_test[i][:k], top_k[i])) for i in range(len(y_test))]\n",
        "precision = (np.sum(correct))/(len(y_test)*k)\n",
        "print(\"Precision@k: \" +str(precision))\n"
      ]
    },
    {
      "cell_type": "markdown",
      "metadata": {
        "id": "IKtF3oRgt5B7"
      },
      "source": [
        "Recall@k Calculation"
      ]
    },
    {
      "cell_type": "code",
      "execution_count": 87,
      "metadata": {
        "colab": {
          "base_uri": "https://localhost:8080/"
        },
        "id": "aKdJB9F9t2Ww",
        "outputId": "9b237eb0-0748-4652-d11b-2857b308379f"
      },
      "outputs": [
        {
          "name": "stdout",
          "output_type": "stream",
          "text": [
            "Recall@k: 0.7217741935483871\n"
          ]
        }
      ],
      "source": [
        "#K can be any value between 1 and 3 including both.\n",
        "sorted_probs = (-y_pred).argsort()\n",
        "k = 2\n",
        "top_k = [sorted_probs[i, :k] for i in range(len(sorted_probs))]   \n",
        "# print(y_pred[0])\n",
        "# print(sorted_probs[0])\n",
        "# print(top_k[0])\n",
        "\n",
        "#Applying the formula for Recall@k\n",
        "correct = [len(intersection(y_test[i], top_k[i])) for i in range(len(y_test))]\n",
        "precision = np.sum(correct) / (len(y_test) * k)\n",
        "print(\"Recall@k: \" +str(precision))"
      ]
    },
    {
      "cell_type": "markdown",
      "metadata": {
        "id": "ncDbK-Zt3QQ4"
      },
      "source": [
        "Mean Average Precision Calculation"
      ]
    },
    {
      "cell_type": "code",
      "execution_count": 82,
      "metadata": {
        "colab": {
          "base_uri": "https://localhost:8080/"
        },
        "id": "SeeC2v4d3UdB",
        "outputId": "b96e08ea-2c88-45ff-f3d8-e12c4c078ee7"
      },
      "outputs": [
        {
          "name": "stdout",
          "output_type": "stream",
          "text": [
            "Mean Average Precision: 0.6017025089605734\n"
          ]
        }
      ],
      "source": [
        "#Function for finding precision of a particular instance\n",
        "def instancePrecision(k,i):\n",
        "  correct=0\n",
        "  if(k<=3):\n",
        "    correct=len(intersection(y_test[i][:k], sorted_probs[i][:k]))\n",
        "  else:\n",
        "    correct=len(intersection(y_test[i], sorted_probs[i][:k]))\n",
        "  prec=correct/k\n",
        "  return prec\n",
        "\n",
        "#Finding Precision at all K<=3 at a particular instance.\n",
        "precision3=[instancePrecision(3,i) for i in range(len(y_test))]\n",
        "precision2=[instancePrecision(2,i) for i in range(len(y_test))]\n",
        "precision1=[instancePrecision(1,i) for i in range(len(y_test))]\n",
        "precisionAll=[[instancePrecision(1,i),instancePrecision(2,i),instancePrecision(3,i)] for i in range(len(y_test))]\n",
        "\n",
        "#taking sum and mean.\n",
        "meansum=0\n",
        "for i in range(len(precision3)):\n",
        "  sum=0\n",
        "  for j in range(len(precisionAll[i])):\n",
        "    sum+=precisionAll[i][j]\n",
        "  mean=sum/len(precisionAll[i])\n",
        "  meansum=meansum+mean\n",
        "\n",
        "meanAvgprec=meansum/len(y_test)\n",
        "print(\"Mean Average Precision: \" +str(meanAvgprec))"
      ]
    },
    {
      "cell_type": "code",
      "execution_count": null,
      "metadata": {
        "colab": {
          "base_uri": "https://localhost:8080/"
        },
        "id": "PV2Nb5v0ODqM",
        "outputId": "40ddad9b-5fb6-4378-e8ab-044ecb24284d"
      },
      "outputs": [
        {
          "name": "stdout",
          "output_type": "stream",
          "text": [
            "['Account Manager', 'Product Manager', 'Sales Analyst', 'UX Designer', 'Business Analyst', 'Machine Learning Engineer', 'Software Developer', 'Marketing Analyst']\n"
          ]
        }
      ],
      "source": [
        "# print the unique values\n",
        "unique_values = list(set(y))\n",
        "print(unique_values)"
      ]
    },
    {
      "cell_type": "code",
      "execution_count": 88,
      "metadata": {
        "colab": {
          "base_uri": "https://localhost:8080/",
          "height": 270
        },
        "id": "_ZCb6JfKPTMK",
        "outputId": "9adfb559-b9bf-4ae1-e2c7-c57aa1326bfa"
      },
      "outputs": [
        {
          "data": {
            "image/png": "[encoded data removed]",
            "text/plain": [
              "<Figure size 432x288 with 2 Axes>"
            ]
          },
          "metadata": {
            "needs_background": "light"
          },
          "output_type": "display_data"
        }
      ],
      "source": [
        "#Heatmap for correlation analysis of features\n",
        "import seaborn as sns\n",
        "import matplotlib.pyplot as plt\n",
        "\n",
        "target_col = 'Job_Profile'\n",
        "feature_cols = [col for col in train.columns if col != target_col]\n",
        "feature_cols=feature_cols\n",
        "\n",
        "# calculate the correlation between the target column and all other columns\n",
        "corr = train[feature_cols].corrwith(train[target_col])\n",
        "\n",
        "# create the heatmap using seaborn\n",
        "sns.heatmap(corr.to_frame(), annot=True, cmap='coolwarm')\n",
        "\n",
        "# show the plot\n",
        "plt.show()"
      ]
    }
  ],
  "metadata": {
    "colab": {
      "provenance": []
    },
    "kernelspec": {
      "display_name": "Python 3",
      "name": "python3"
    },
    "language_info": {
      "name": "python"
    }
  },
  "nbformat": 4,
  "nbformat_minor": 0
}
